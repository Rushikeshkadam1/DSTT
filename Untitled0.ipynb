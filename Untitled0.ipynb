{
  "nbformat": 4,
  "nbformat_minor": 0,
  "metadata": {
    "colab": {
      "provenance": [],
      "authorship_tag": "ABX9TyNacCYeK714Xg9/emoCJnfT",
      "include_colab_link": true
    },
    "kernelspec": {
      "name": "python3",
      "display_name": "Python 3"
    },
    "language_info": {
      "name": "python"
    }
  },
  "cells": [
    {
      "cell_type": "markdown",
      "metadata": {
        "id": "view-in-github",
        "colab_type": "text"
      },
      "source": [
        "<a href=\"https://colab.research.google.com/github/Rushikeshkadam1/DSTT/blob/main/Untitled0.ipynb\" target=\"_parent\"><img src=\"https://colab.research.google.com/assets/colab-badge.svg\" alt=\"Open In Colab\"/></a>"
      ]
    },
    {
      "cell_type": "markdown",
      "source": [
        "Name:Rushikesh Kadam\n",
        "Reg. no. : 22-14-15"
      ],
      "metadata": {
        "id": "Ec-J91ENbGD1"
      }
    },
    {
      "cell_type": "code",
      "execution_count": 1,
      "metadata": {
        "colab": {
          "base_uri": "https://localhost:8080/"
        },
        "id": "tduXskhpaxqS",
        "outputId": "f1f32cc6-c810-4046-dd7a-e7a9582fa475"
      },
      "outputs": [
        {
          "output_type": "stream",
          "name": "stdout",
          "text": [
            "01010\n",
            "YES\n"
          ]
        }
      ],
      "source": [
        "A = input()\n",
        "count_zeros = A.count('0')\n",
        "count_ones = A.count('1')\n",
        "if count_zeros == count_ones + 1 or count_ones == count_zeros + 1 or count_zeros == count_ones:\n",
        "    print('YES')\n",
        "else:\n",
        "    print('NO')\n"
      ]
    }
  ]
}