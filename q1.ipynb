{
  "nbformat": 4,
  "nbformat_minor": 0,
  "metadata": {
    "colab": {
      "provenance": [],
      "authorship_tag": "ABX9TyMwfct4N0Q0qrmC4xV/jliw",
      "include_colab_link": true
    },
    "kernelspec": {
      "name": "python3",
      "display_name": "Python 3"
    },
    "language_info": {
      "name": "python"
    }
  },
  "cells": [
    {
      "cell_type": "markdown",
      "metadata": {
        "id": "view-in-github",
        "colab_type": "text"
      },
      "source": [
        "<a href=\"https://colab.research.google.com/github/Rushikeshkadam1/DSTT/blob/main/q1.ipynb\" target=\"_parent\"><img src=\"https://colab.research.google.com/assets/colab-badge.svg\" alt=\"Open In Colab\"/></a>"
      ]
    },
    {
      "cell_type": "markdown",
      "source": [
        "Name: Rushikesh Kadam\n",
        "             Reg no.: 22-14-15"
      ],
      "metadata": {
        "id": "XDW1bPe1OXvD"
      }
    },
    {
      "cell_type": "code",
      "source": [
        "x = int(input())\n",
        "y = list(map(int, input().split()))\n",
        "\n",
        "y_reverse = y[::-1]\n",
        "\n",
        "result = []\n",
        "\n",
        "for i in range(x):\n",
        "    result.append(y[i] * y_reverse[i])\n",
        "\n",
        "print(*result)"
      ],
      "metadata": {
        "colab": {
          "base_uri": "https://localhost:8080/"
        },
        "id": "L0CUueTROwBF",
        "outputId": "0fea49c4-6192-4b8b-da44-6d44894fb9fc"
      },
      "execution_count": null,
      "outputs": [
        {
          "output_type": "stream",
          "name": "stdout",
          "text": [
            "5\n",
            "1 2 3 4 5\n",
            "5 8 9 8 5\n"
          ]
        }
      ]
    }
  ]
}