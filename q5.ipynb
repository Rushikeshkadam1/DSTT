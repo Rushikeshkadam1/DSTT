{
  "nbformat": 4,
  "nbformat_minor": 0,
  "metadata": {
    "colab": {
      "provenance": [],
      "authorship_tag": "ABX9TyPNfv3D1/YofvzI3/p6Jb4O",
      "include_colab_link": true
    },
    "kernelspec": {
      "name": "python3",
      "display_name": "Python 3"
    },
    "language_info": {
      "name": "python"
    }
  },
  "cells": [
    {
      "cell_type": "markdown",
      "metadata": {
        "id": "view-in-github",
        "colab_type": "text"
      },
      "source": [
        "<a href=\"https://colab.research.google.com/github/Rushikeshkadam1/DSTT/blob/main/q5.ipynb\" target=\"_parent\"><img src=\"https://colab.research.google.com/assets/colab-badge.svg\" alt=\"Open In Colab\"/></a>"
      ]
    },
    {
      "cell_type": "markdown",
      "source": [
        "Name:Rushikesh Kadam  \n",
        "Reg. no. : 22-14-15"
      ],
      "metadata": {
        "id": "xyWA8G2ldPrC"
      }
    },
    {
      "cell_type": "code",
      "execution_count": 1,
      "metadata": {
        "colab": {
          "base_uri": "https://localhost:8080/"
        },
        "id": "b19UqvFIdGyi",
        "outputId": "054759ab-6e7e-4d66-f969-7a89c164bff7"
      },
      "outputs": [
        {
          "output_type": "stream",
          "name": "stdout",
          "text": [
            "5\n",
            "120\n"
          ]
        }
      ],
      "source": [
        "x = int(input())\n",
        "factorial = 1\n",
        "for y in range(1, x+1):\n",
        "    factorial *= y\n",
        "print(factorial)\n"
      ]
    }
  ]
}