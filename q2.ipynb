{
  "nbformat": 4,
  "nbformat_minor": 0,
  "metadata": {
    "colab": {
      "provenance": [],
      "authorship_tag": "ABX9TyNqUCtsH+z91Yh+qBpSteMj",
      "include_colab_link": true
    },
    "kernelspec": {
      "name": "python3",
      "display_name": "Python 3"
    },
    "language_info": {
      "name": "python"
    }
  },
  "cells": [
    {
      "cell_type": "markdown",
      "metadata": {
        "id": "view-in-github",
        "colab_type": "text"
      },
      "source": [
        "<a href=\"https://colab.research.google.com/github/Rushikeshkadam1/DSTT/blob/main/q2.ipynb\" target=\"_parent\"><img src=\"https://colab.research.google.com/assets/colab-badge.svg\" alt=\"Open In Colab\"/></a>"
      ]
    },
    {
      "cell_type": "code",
      "execution_count": null,
      "metadata": {
        "colab": {
          "base_uri": "https://localhost:8080/"
        },
        "id": "VFQ6IVL4TbnU",
        "outputId": "e8cef77f-2ba5-4e0a-81a9-5bb1b7576bb4"
      },
      "outputs": [
        {
          "output_type": "stream",
          "name": "stdout",
          "text": [
            "1 2 3 4 5 6 7\n",
            "2 6\n"
          ]
        }
      ],
      "source": [
        "numbers = list(map(int, input().split()))\n",
        "\n",
        "numbers.sort()\n",
        "second_min = numbers[1]\n",
        "second_max = numbers[-2]\n",
        "print(second_min, second_max)\n"
      ]
    }
  ]
}