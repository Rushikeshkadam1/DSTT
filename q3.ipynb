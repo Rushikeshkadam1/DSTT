{
  "nbformat": 4,
  "nbformat_minor": 0,
  "metadata": {
    "colab": {
      "provenance": [],
      "authorship_tag": "ABX9TyM/E+XWvB4+mvI5pe7DOVar",
      "include_colab_link": true
    },
    "kernelspec": {
      "name": "python3",
      "display_name": "Python 3"
    },
    "language_info": {
      "name": "python"
    }
  },
  "cells": [
    {
      "cell_type": "markdown",
      "metadata": {
        "id": "view-in-github",
        "colab_type": "text"
      },
      "source": [
        "<a href=\"https://colab.research.google.com/github/Rushikeshkadam1/DSTT/blob/main/q3.ipynb\" target=\"_parent\"><img src=\"https://colab.research.google.com/assets/colab-badge.svg\" alt=\"Open In Colab\"/></a>"
      ]
    },
    {
      "cell_type": "markdown",
      "source": [
        "Name:Rushikesh Kadam  Reg. no. : 22-14-15"
      ],
      "metadata": {
        "id": "vhGCzMkCZRhv"
      }
    },
    {
      "cell_type": "code",
      "execution_count": 1,
      "metadata": {
        "colab": {
          "base_uri": "https://localhost:8080/"
        },
        "id": "uM07NS6-Ylrc",
        "outputId": "da4f633e-1b49-4e9f-a12b-8cb185c59d8f"
      },
      "outputs": [
        {
          "output_type": "stream",
          "name": "stdout",
          "text": [
            "1 2 3 4 5 6 7 8 9 10\n",
            "1 2 3 4 6 7 8 9\n"
          ]
        }
      ],
      "source": [
        "X = list(map(int, input().split()))\n",
        "result = [num for num in X if num % 5 != 0]\n",
        "print(result, sep=' ')"
      ]
    }
  ]
}